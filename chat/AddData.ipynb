{
 "cells": [
  {
   "cell_type": "code",
   "execution_count": 16,
   "metadata": {},
   "outputs": [
    {
     "data": {
      "text/plain": [
       "True"
      ]
     },
     "execution_count": 16,
     "metadata": {},
     "output_type": "execute_result"
    }
   ],
   "source": [
    "from langchain_google_genai import GoogleGenerativeAIEmbeddings\n",
    "import pandas as pd\n",
    "from qdrant_client import QdrantClient\n",
    "import os\n",
    "import glob\n",
    "import pandas as pd\n",
    "import uuid\n",
    "from langchain.vectorstores import Qdrant\n",
    "from qdrant_client.models import PointStruct\n",
    "from dotenv import load_dotenv\n",
    "load_dotenv()"
   ]
  },
  {
   "cell_type": "code",
   "execution_count": 22,
   "metadata": {},
   "outputs": [
    {
     "name": "stderr",
     "output_type": "stream",
     "text": [
      "C:\\Users\\dhruv sharma\\AppData\\Local\\Temp\\ipykernel_6028\\395930160.py:12: DeprecationWarning: `recreate_collection` method is deprecated and will be removed in the future. Use `collection_exists` to check collection existence and `create_collection` instead.\n",
      "  qdrant.recreate_collection(\n"
     ]
    },
    {
     "name": "stdout",
     "output_type": "stream",
     "text": [
      "✅ Successfully stored 48 embeddings in Qdrant.\n"
     ]
    }
   ],
   "source": [
    "\n",
    "# ✅ Set up Embeddings Model\n",
    "model_name = \"models/embedding-001\"\n",
    "embeddings = GoogleGenerativeAIEmbeddings(model=model_name)\n",
    "\n",
    "# ✅ Connect to Qdrant\n",
    "qdrant = QdrantClient(\n",
    "    url=os.getenv(\"QDRANT_URL\"),\n",
    "    api_key=os.getenv(\"QDRANT_API_KEY\"),\n",
    ")\n",
    "\n",
    "# ✅ Recreate collection with correct vector size\n",
    "qdrant.recreate_collection(\n",
    "    collection_name=\"my_collection\",\n",
    "    vectors_config={\"size\": 768, \"distance\": \"Cosine\"}  # Ensure correct size\n",
    ")\n",
    "\n",
    "# ✅ Process multiple CSV files\n",
    "all_vectors = []\n",
    "csv_files = glob.glob(\"C:\\\\Users\\\\dhruv sharma\\\\OneDrive\\\\Desktop\\\\*.csv\")\n",
    "\n",
    "def getText():\n",
    "    global all_vectors\n",
    "    if not csv_files:\n",
    "        print(\"❌ No CSV files found.\")\n",
    "        return\n",
    "    \n",
    "    for file in csv_files:\n",
    "        df = pd.read_csv(file, encoding=\"ISO-8859-1\")\n",
    "        \n",
    "        for _, row in df.iterrows():\n",
    "            # ✅ Extract only non-null column values dynamically\n",
    "            metadata = {col: row[col] for col in df.columns if pd.notna(row[col])}\n",
    "            metadata[\"source_file\"] = os.path.basename(file)  # Store file name\n",
    "\n",
    "            # ✅ Combine all text fields for embedding\n",
    "            text_data = \" \".join(str(row[col]) for col in df.columns if pd.notna(row[col]))\n",
    "\n",
    "            if text_data:  # Ensure valid text\n",
    "                vector = embeddings.embed_query(text_data)  # Generate vector\n",
    "                \n",
    "                all_vectors.append(\n",
    "                    PointStruct(id=str(uuid.uuid4()), vector=vector, payload=metadata)\n",
    "                )\n",
    "\n",
    "def store_embeddings():\n",
    "    global all_vectors\n",
    "    if not all_vectors:\n",
    "        print(\"❌ No embeddings to store.\")\n",
    "        return\n",
    "\n",
    "    qdrant.upsert(collection_name=\"my_collection\", points=all_vectors)\n",
    "    print(f\"✅ Successfully stored {len(all_vectors)} embeddings in Qdrant.\")\n",
    "\n",
    "# ✅ Execute\n",
    "getText()\n",
    "store_embeddings()"
   ]
  },
  {
   "cell_type": "code",
   "execution_count": 20,
   "metadata": {},
   "outputs": [
    {
     "data": {
      "text/plain": [
       "UpdateResult(operation_id=1, status=<UpdateStatus.COMPLETED: 'completed'>)"
      ]
     },
     "execution_count": 20,
     "metadata": {},
     "output_type": "execute_result"
    }
   ],
   "source": [
    "from qdrant_client.models import Filter  # Import the missing Filter class\n",
    "\n",
    "qdrant = QdrantClient(\n",
    "    url=os.getenv(\"QDRANT_URL\"),\n",
    "    api_key=os.getenv(\"QDRANT_API_KEY\"),\n",
    ")\n",
    "\n",
    "qdrant.delete(\n",
    "    collection_name=\"my_collection\",\n",
    "    points_selector=Filter(must=[])  # Deletes all points\n",
    ")"
   ]
  },
  {
   "cell_type": "code",
   "execution_count": null,
   "metadata": {},
   "outputs": [],
   "source": []
  }
 ],
 "metadata": {
  "kernelspec": {
   "display_name": "base",
   "language": "python",
   "name": "python3"
  },
  "language_info": {
   "codemirror_mode": {
    "name": "ipython",
    "version": 3
   },
   "file_extension": ".py",
   "mimetype": "text/x-python",
   "name": "python",
   "nbconvert_exporter": "python",
   "pygments_lexer": "ipython3",
   "version": "3.12.7"
  }
 },
 "nbformat": 4,
 "nbformat_minor": 2
}
